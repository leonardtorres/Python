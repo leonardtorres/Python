{
 "cells": [
  {
   "cell_type": "markdown",
   "id": "413d3b77",
   "metadata": {},
   "source": [
    "# Python Optimizations: What Not to Do and Optimized Versions"
   ]
  },
  {
   "cell_type": "markdown",
   "id": "63d16fc1",
   "metadata": {},
   "source": [
    "## 1. Using Built-in Functions and Libraries"
   ]
  },
  {
   "cell_type": "code",
   "execution_count": null,
   "id": "c9ea0e7e",
   "metadata": {},
   "outputs": [],
   "source": [
    "# What Not to Do\n",
    "numbers = [1, 2, 3, 4, 5]\n",
    "total = 0\n",
    "for number in numbers:\n",
    "    total += number"
   ]
  },
  {
   "cell_type": "code",
   "execution_count": null,
   "id": "352c0d96",
   "metadata": {},
   "outputs": [],
   "source": [
    "# Optimized Version\n",
    "numbers = [1, 2, 3, 4, 5]\n",
    "total = sum(numbers)"
   ]
  },
  {
   "cell_type": "markdown",
   "id": "9ace842a",
   "metadata": {},
   "source": [
    "## 2. List Comprehensions"
   ]
  },
  {
   "cell_type": "code",
   "execution_count": null,
   "id": "8015a335",
   "metadata": {},
   "outputs": [],
   "source": [
    "# What Not to Do\n",
    "squares = []\n",
    "for x in range(10):\n",
    "    squares.append(x**2)"
   ]
  },
  {
   "cell_type": "code",
   "execution_count": null,
   "id": "0a7d7b3a",
   "metadata": {},
   "outputs": [],
   "source": [
    "# Optimized Version\n",
    "squares = [x**2 for x in range(10)]"
   ]
  },
  {
   "cell_type": "markdown",
   "id": "5ff09d3f",
   "metadata": {},
   "source": [
    "## 3. Generator Expressions"
   ]
  },
  {
   "cell_type": "code",
   "execution_count": null,
   "id": "eaf21d52",
   "metadata": {},
   "outputs": [],
   "source": [
    "# What Not to Do\n",
    "squares = [x**2 for x in range(10)]"
   ]
  },
  {
   "cell_type": "code",
   "execution_count": null,
   "id": "cf326326",
   "metadata": {},
   "outputs": [],
   "source": [
    "# Optimized Version\n",
    "squares_gen = (x**2 for x in range(10))"
   ]
  },
  {
   "cell_type": "markdown",
   "id": "bdbd6d77",
   "metadata": {},
   "source": [
    "## 4. Use `join()` for String Concatenation"
   ]
  },
  {
   "cell_type": "code",
   "execution_count": null,
   "id": "6c29bd75",
   "metadata": {},
   "outputs": [],
   "source": [
    "# What Not to Do\n",
    "words = ['Hello', 'world']\n",
    "sentence = ''\n",
    "for word in words:\n",
    "    sentence += word + ' '\n",
    "sentence = sentence.strip()"
   ]
  },
  {
   "cell_type": "code",
   "execution_count": null,
   "id": "8f00e1de",
   "metadata": {},
   "outputs": [],
   "source": [
    "# Optimized Version\n",
    "words = ['Hello', 'world']\n",
    "sentence = ' '.join(words)"
   ]
  },
  {
   "cell_type": "markdown",
   "id": "420b7c7a",
   "metadata": {},
   "source": [
    "## 5. Avoid Using Global Variables"
   ]
  },
  {
   "cell_type": "code",
   "execution_count": null,
   "id": "c4e9949e",
   "metadata": {},
   "outputs": [],
   "source": [
    "# What Not to Do\n",
    "total = 0\n",
    "def add_to_total(numbers):\n",
    "    global total\n",
    "    for number in numbers:\n",
    "        total += number"
   ]
  },
  {
   "cell_type": "code",
   "execution_count": null,
   "id": "8fcad800",
   "metadata": {},
   "outputs": [],
   "source": [
    "# Optimized Version\n",
    "def calculate_sum(numbers):\n",
    "    total = sum(numbers)\n",
    "    return total"
   ]
  },
  {
   "cell_type": "markdown",
   "id": "95660efb",
   "metadata": {},
   "source": [
    "## 6. Use `in` for Membership Tests"
   ]
  },
  {
   "cell_type": "code",
   "execution_count": null,
   "id": "bd0fe55a",
   "metadata": {},
   "outputs": [],
   "source": [
    "# What Not to Do\n",
    "fruits = ['apple', 'banana', 'cherry']\n",
    "found = False\n",
    "for fruit in fruits:\n",
    "    if fruit == 'apple':\n",
    "        found = True\n",
    "        break\n",
    "if found:\n",
    "    print(\"Found!\")"
   ]
  },
  {
   "cell_type": "code",
   "execution_count": null,
   "id": "01f4964a",
   "metadata": {},
   "outputs": [],
   "source": [
    "# Optimized Version\n",
    "fruits = ['apple', 'banana', 'cherry']\n",
    "if 'apple' in fruits:\n",
    "    print(\"Found!\")"
   ]
  },
  {
   "cell_type": "markdown",
   "id": "0e340b13",
   "metadata": {},
   "source": [
    "## 7. Use `set` for Membership Tests"
   ]
  },
  {
   "cell_type": "code",
   "execution_count": null,
   "id": "cc03bf7b",
   "metadata": {},
   "outputs": [],
   "source": [
    "# What Not to Do\n",
    "fruits = ['apple', 'banana', 'cherry']\n",
    "if 'apple' in fruits:\n",
    "    print(\"Found!\")"
   ]
  },
  {
   "cell_type": "code",
   "execution_count": null,
   "id": "498a4cfb",
   "metadata": {},
   "outputs": [],
   "source": [
    "# Optimized Version\n",
    "fruits = {'apple', 'banana', 'cherry'}\n",
    "if 'apple' in fruits:\n",
    "    print(\"Found!\")"
   ]
  },
  {
   "cell_type": "markdown",
   "id": "b88c0a07",
   "metadata": {},
   "source": [
    "## 8. Use `itertools` for Efficient Looping"
   ]
  },
  {
   "cell_type": "code",
   "execution_count": null,
   "id": "30822bd8",
   "metadata": {},
   "outputs": [],
   "source": [
    "# What Not to Do\n",
    "for x in [1, 2]:\n",
    "    for y in ['a', 'b']:\n",
    "        print((x, y))"
   ]
  },
  {
   "cell_type": "code",
   "execution_count": null,
   "id": "c021f39c",
   "metadata": {},
   "outputs": [],
   "source": [
    "import itertools\n",
    "\n",
    "# Optimized Version\n",
    "for item in itertools.product([1, 2], ['a', 'b']):\n",
    "    print(item)"
   ]
  },
  {
   "cell_type": "markdown",
   "id": "4c2ba329",
   "metadata": {},
   "source": [
    "## 9. Use `collections.defaultdict`"
   ]
  },
  {
   "cell_type": "code",
   "execution_count": null,
   "id": "68c40e10",
   "metadata": {},
   "outputs": [],
   "source": [
    "# What Not to Do\n",
    "d = {}\n",
    "if 'key' in d:\n",
    "    d['key'] += 1\n",
    "else:\n",
    "    d['key'] = 1"
   ]
  },
  {
   "cell_type": "code",
   "execution_count": null,
   "id": "acc6f5c7",
   "metadata": {},
   "outputs": [],
   "source": [
    "from collections import defaultdict\n",
    "\n",
    "# Optimized Version\n",
    "d = defaultdict(int)\n",
    "d['key'] += 1"
   ]
  },
  {
   "cell_type": "markdown",
   "id": "e1069991",
   "metadata": {},
   "source": [
    "## 10. Use `deque` for Fast Appends and Pops"
   ]
  },
  {
   "cell_type": "code",
   "execution_count": null,
   "id": "8823190e",
   "metadata": {},
   "outputs": [],
   "source": [
    "# What Not to Do\n",
    "lst = [1, 2, 3]\n",
    "lst.append(4)\n",
    "lst.pop(0)"
   ]
  },
  {
   "cell_type": "code",
   "execution_count": null,
   "id": "23e84d35",
   "metadata": {},
   "outputs": [],
   "source": [
    "from collections import deque\n",
    "\n",
    "# Optimized Version\n",
    "d = deque([1, 2, 3])\n",
    "d.append(4)\n",
    "d.popleft()"
   ]
  },
  {
   "cell_type": "markdown",
   "id": "6760cc82",
   "metadata": {},
   "source": [
    "## 11. Use `array` for Numeric Data"
   ]
  },
  {
   "cell_type": "code",
   "execution_count": null,
   "id": "89e59566",
   "metadata": {},
   "outputs": [],
   "source": [
    "# What Not to Do\n",
    "lst = [1, 2, 3, 4]"
   ]
  },
  {
   "cell_type": "code",
   "execution_count": null,
   "id": "63a3efc9",
   "metadata": {},
   "outputs": [],
   "source": [
    "from array import array\n",
    "\n",
    "# Optimized Version\n",
    "arr = array('i', [1, 2, 3, 4])"
   ]
  },
  {
   "cell_type": "markdown",
   "id": "94b88c89",
   "metadata": {},
   "source": [
    "## 12. Use `numpy` for Numerical Computations"
   ]
  },
  {
   "cell_type": "code",
   "execution_count": null,
   "id": "6f439321",
   "metadata": {},
   "outputs": [],
   "source": [
    "# What Not to Do\n",
    "lst = [1, 2, 3, 4]\n",
    "lst = [x * 2 for x in lst]"
   ]
  },
  {
   "cell_type": "code",
   "execution_count": null,
   "id": "6f172724",
   "metadata": {},
   "outputs": [],
   "source": [
    "import numpy as np\n",
    "\n",
    "# Optimized Version\n",
    "arr = np.array([1, 2, 3, 4])\n",
    "arr = arr * 2"
   ]
  },
  {
   "cell_type": "markdown",
   "id": "c3949990",
   "metadata": {},
   "source": [
    "## 13. Use `pandas` for Data Analysis"
   ]
  },
  {
   "cell_type": "code",
   "execution_count": null,
   "id": "1b25e674",
   "metadata": {},
   "outputs": [],
   "source": [
    "# What Not to Do\n",
    "data = {'A': [1, 2, 3], 'B': [4, 5, 6]}"
   ]
  },
  {
   "cell_type": "code",
   "execution_count": null,
   "id": "26413c1f",
   "metadata": {},
   "outputs": [],
   "source": [
    "import pandas as pd\n",
    "\n",
    "# Optimized Version\n",
    "df = pd.DataFrame({'A': [1, 2, 3], 'B': [4, 5, 6]})"
   ]
  },
  {
   "cell_type": "markdown",
   "id": "8c0fd201",
   "metadata": {},
   "source": [
    "## 14. Use `cython` to Compile Python to C"
   ]
  },
  {
   "cell_type": "code",
   "execution_count": null,
   "id": "82d900e2",
   "metadata": {},
   "outputs": [],
   "source": [
    "# What Not to Do\n",
    "def f(n):\n",
    "    s = 0\n",
    "    for i in range(n):\n",
    "        s += i\n",
    "    return s"
   ]
  },
  {
   "cell_type": "code",
   "execution_count": null,
   "id": "ac57c215",
   "metadata": {},
   "outputs": [],
   "source": [
    "%%cython\n",
    "\n",
    "# Optimized Version (Cython code)\n",
    "def f(int n):\n",
    "    cdef int i\n",
    "    cdef double s = 0\n",
    "    for i in range(n):\n",
    "        s += i\n",
    "    return s"
   ]
  },
  {
   "cell_type": "markdown",
   "id": "deb07b18",
   "metadata": {},
   "source": [
    "## 15. Use `multiprocessing` for Parallel Processing"
   ]
  },
  {
   "cell_type": "code",
   "execution_count": null,
   "id": "69f42a7d",
   "metadata": {},
   "outputs": [],
   "source": [
    "# What Not to Do\n",
    "def f(x):\n",
    "    return x*x\n",
    "\n",
    "results = [f(x) for x in [1, 2, 3]]"
   ]
  },
  {
   "cell_type": "code",
   "execution_count": null,
   "id": "bbd78988",
   "metadata": {},
   "outputs": [],
   "source": [
    "from multiprocessing import Pool\n",
    "\n",
    "# Optimized Version (using multiprocessing)\n",
    "def f(x):\n",
    "    return x*x\n",
    "\n",
    "with Pool(5) as p:\n",
    "    print(p.map(f, [1, 2, 3]))"
   ]
  },
  {
   "cell_type": "markdown",
   "id": "76a9f62e",
   "metadata": {},
   "source": [
    "## 16. Use `concurrent.futures` for Asynchronous Programming"
   ]
  },
  {
   "cell_type": "code",
   "execution_count": null,
   "id": "88f4b69d",
   "metadata": {},
   "outputs": [],
   "source": [
    "# What Not to Do\n",
    "def f(x):\n",
    "    return x*x\n",
    "\n",
    "results = [f(x) for x in [1, 2, 3]]"
   ]
  },
  {
   "cell_type": "code",
   "execution_count": null,
   "id": "a8bc4781",
   "metadata": {},
   "outputs": [],
   "source": [
    "from concurrent.futures import ThreadPoolExecutor\n",
    "\n",
    "# Optimized Version (using concurrent.futures)\n",
    "def f(x):\n",
    "    return x*x\n",
    "\n",
    "with ThreadPoolExecutor() as executor:\n",
    "    results = list(executor.map(f, [1, 2, 3]))"
   ]
  },
  {
   "cell_type": "markdown",
   "id": "e8e2c0c2",
   "metadata": {},
   "source": [
    "## 17. Use `lru_cache` for Caching"
   ]
  },
  {
   "cell_type": "code",
   "execution_count": null,
   "id": "4661b219",
   "metadata": {},
   "outputs": [],
   "source": [
    "# What Not to Do\n",
    "def fibonacci(n):\n",
    "    if n < 2:\n",
    "        return n\n",
    "    return fibonacci(n-1) + fibonacci(n-2)"
   ]
  },
  {
   "cell_type": "code",
   "execution_count": null,
   "id": "d0f7a653",
   "metadata": {},
   "outputs": [],
   "source": [
    "from functools import lru_cache\n",
    "\n",
    "# Optimized Version (using lru_cache)\n",
    "@lru_cache(maxsize=None)\n",
    "def fibonacci(n):\n",
    "    if n < 2:\n",
    "        return n\n",
    "    return fibonacci(n-1) + fibonacci(n-2)"
   ]
  },
  {
   "cell_type": "markdown",
   "id": "2b3536ac",
   "metadata": {},
   "source": [
    "## 18. Use `timeit` for Benchmarking"
   ]
  },
  {
   "cell_type": "code",
   "execution_count": null,
   "id": "12c4bfc3",
   "metadata": {},
   "outputs": [],
   "source": [
    "import time\n",
    "\n",
    "# What Not to Do (using print statements for timing)\n",
    "start = time.time()\n",
    "sum(range(100))\n",
    "end = time.time()\n",
    "print(f\"Time taken: {end - start}\")"
   ]
  },
  {
   "cell_type": "code",
   "execution_count": null,
   "id": "984dfcb1",
   "metadata": {},
   "outputs": [],
   "source": [
    "import timeit\n",
    "\n",
    "# Optimized Version (using timeit)\n",
    "timeit.timeit('sum(range(100))', number=10000)"
   ]
  },
  {
   "cell_type": "markdown",
   "id": "2a770e3c",
   "metadata": {},
   "source": [
    "## 19. Profile Your Code"
   ]
  },
  {
   "cell_type": "code",
   "execution_count": null,
   "id": "7e1845c6",
   "metadata": {},
   "outputs": [],
   "source": [
    "# What Not to Do\n",
    "def my_function():\n",
    "    return sum(range(10000))\n",
    "\n",
    "my_function()"
   ]
  },
  {
   "cell_type": "code",
   "execution_count": null,
   "id": "bdcff2cf",
   "metadata": {},
   "outputs": [],
   "source": [
    "import cProfile\n",
    "\n",
    "# Optimized Version (using cProfile)\n",
    "def my_function():\n",
    "    return sum(range(10000))\n",
    "\n",
    "cProfile.run('my_function()')"
   ]
  },
  {
   "cell_type": "markdown",
   "id": "9e430341",
   "metadata": {},
   "source": [
    "## 20. Optimize Algorithms"
   ]
  },
  {
   "cell_type": "code",
   "execution_count": null,
   "id": "eff4b34a",
   "metadata": {},
   "outputs": [],
   "source": [
    "# What Not to Do (linear search)\n",
    "def linear_search(arr, x):\n",
    "    for i in range(len(arr)):\n",
    "        if arr[i] == x:\n",
    "            return i\n",
    "    return -1"
   ]
  },
  {
   "cell_type": "code",
   "execution_count": null,
   "id": "6eebc6aa",
   "metadata": {},
   "outputs": [],
   "source": [
    "# Optimized Version (binary search)\n",
    "def binary_search(arr, x):\n",
    "    low, high = 0, len(arr) - 1\n",
    "    while low <= high:\n",
    "        mid = (low + high) // 2\n",
    "        if arr[mid] < x:\n",
    "            low = mid + 1\n",
    "        elif arr[mid] > x:\n",
    "            high = mid - 1\n",
    "        else:\n",
    "            return mid\n",
    "    return -1"
   ]
  },
  {
   "cell_type": "markdown",
   "id": "370e8140",
   "metadata": {},
   "source": [
    "## 21. Use `@staticmethod` and `@classmethod`"
   ]
  },
  {
   "cell_type": "code",
   "execution_count": null,
   "id": "260a3c9d",
   "metadata": {},
   "outputs": [],
   "source": [
    "# What Not to Do\n",
    "class MyClass:\n",
    "    def instance_method(self):\n",
    "        print(\"Instance method\")"
   ]
  },
  {
   "cell_type": "code",
   "execution_count": null,
   "id": "b03d26d7",
   "metadata": {},
   "outputs": [],
   "source": [
    "# Optimized Version (using @staticmethod and @classmethod)\n",
    "class MyClass:\n",
    "    @staticmethod\n",
    "    def static_method():\n",
    "        print(\"Static method\")\n",
    "\n",
    "    @classmethod\n",
    "    def class_method(cls):\n",
    "        print(\"Class method\")"
   ]
  },
  {
   "cell_type": "markdown",
   "id": "a12e4251",
   "metadata": {},
   "source": [
    "## 22. Use `slots` to Reduce Memory Overhead"
   ]
  },
  {
   "cell_type": "code",
   "execution_count": null,
   "id": "e362a4c5",
   "metadata": {},
   "outputs": [],
   "source": [
    "# What Not to Do\n",
    "class MyClass:\n",
    "    def __init__(self, attr1, attr2):\n",
    "        self.attr1 = attr1\n",
    "        self.attr2 = attr2"
   ]
  },
  {
   "cell_type": "code",
   "execution_count": null,
   "id": "06dc95f9",
   "metadata": {},
   "outputs": [],
   "source": [
    "# Optimized Version (using slots)\n",
    "class MyClass:\n",
    "    __slots__ = ['attr1', 'attr2']\n",
    "    def __init__(self, attr1, attr2):\n",
    "        self.attr1 = attr1\n",
    "        self.attr2 = attr2"
   ]
  },
  {
   "cell_type": "markdown",
   "id": "1b81d77f",
   "metadata": {},
   "source": [
    "## 23. Avoid Using `try`/`except` in Performance-Critical Code"
   ]
  },
  {
   "cell_type": "code",
   "execution_count": null,
   "id": "6fcbb34c",
   "metadata": {},
   "outputs": [],
   "source": [
    "# What Not to Do\n",
    "def safe_divide(a, b):\n",
    "    try:\n",
    "        return a / b\n",
    "    except ZeroDivisionError:\n",
    "        return None"
   ]
  },
  {
   "cell_type": "code",
   "execution_count": null,
   "id": "65e57688",
   "metadata": {},
   "outputs": [],
   "source": [
    "# Optimized Version\n",
    "def safe_divide(a, b):\n",
    "    if b == 0:\n",
    "        return None\n",
    "    return a / b"
   ]
  },
  {
   "cell_type": "markdown",
   "id": "c1edc889",
   "metadata": {},
   "source": [
    "## 24. Use `with` Statement for File Operations"
   ]
  },
  {
   "cell_type": "code",
   "execution_count": null,
   "id": "ffba4ee6",
   "metadata": {},
   "outputs": [],
   "source": [
    "# What Not to Do\n",
    "file = open('file.txt', 'r')\n",
    "content = file.read()\n",
    "file.close()"
   ]
  },
  {
   "cell_type": "code",
   "execution_count": null,
   "id": "d2663ca4",
   "metadata": {},
   "outputs": [],
   "source": [
    "# Optimized Version\n",
    "with open('file.txt', 'r') as file:\n",
    "    content = file.read()"
   ]
  },
  {
   "cell_type": "markdown",
   "id": "4ef6eba0",
   "metadata": {},
   "source": [
    "## 25. Use `contextlib` for Context Managers"
   ]
  },
  {
   "cell_type": "code",
   "execution_count": null,
   "id": "623b01eb",
   "metadata": {},
   "outputs": [],
   "source": [
    "# What Not to Do\n",
    "class MyContext:\n",
    "    def __enter__(self):\n",
    "        print(\"Entering\")\n",
    "    def __exit__(self, exc_type, exc_value, traceback):\n",
    "        print(\"Exiting\")\n",
    "\n",
    "with MyContext():\n",
    "    print(\"Inside\")"
   ]
  },
  {
   "cell_type": "code",
   "execution_count": null,
   "id": "2ad22887",
   "metadata": {},
   "outputs": [],
   "source": [
    "from contextlib import contextmanager\n",
    "\n",
    "# Optimized Version\n",
    "@contextmanager\n",
    "def my_context():\n",
    "    print(\"Entering\")\n",
    "    yield\n",
    "    print(\"Exiting\")\n",
    "\n",
    "with my_context():\n",
    "    print(\"Inside\")"
   ]
  },
  {
   "cell_type": "markdown",
   "id": "deb7e800",
   "metadata": {},
   "source": [
    "## 26. Use `asyncio` for Asynchronous I/O"
   ]
  },
  {
   "cell_type": "code",
   "execution_count": null,
   "id": "d8c8d9d3",
   "metadata": {},
   "outputs": [],
   "source": [
    "# What Not to Do\n",
    "import time\n",
    "\n",
    "def main():\n",
    "    print(\"Hello\")\n",
    "    time.sleep(1)\n",
    "    print(\"World\")\n",
    "\n",
    "main()"
   ]
  },
  {
   "cell_type": "code",
   "execution_count": null,
   "id": "77486b5f",
   "metadata": {},
   "outputs": [],
   "source": [
    "import asyncio\n",
    "\n",
    "# Optimized Version\n",
    "async def main():\n",
    "    print(\"Hello\")\n",
    "    await asyncio.sleep(1)\n",
    "    print(\"World\")\n",
    "\n",
    "asyncio.run(main())"
   ]
  },
  {
   "cell_type": "markdown",
   "id": "3aae3ae3",
   "metadata": {},
   "source": [
    "## 27. Use `f-strings` for String Formatting"
   ]
  },
  {
   "cell_type": "code",
   "execution_count": null,
   "id": "f5c281b9",
   "metadata": {},
   "outputs": [],
   "source": [
    "# What Not to Do\n",
    "name = \"World\"\n",
    "greeting = \"Hello, {}!\".format(name)"
   ]
  },
  {
   "cell_type": "code",
   "execution_count": null,
   "id": "814fe15f",
   "metadata": {},
   "outputs": [],
   "source": [
    "# Optimized Version\n",
    "name = \"World\"\n",
    "greeting = f\"Hello, {name}!\" "
   ]
  },
  {
   "cell_type": "markdown",
   "id": "b5823cbc",
   "metadata": {},
   "source": [
    "## 28. Avoid Using `*args` and `**kwargs` in Performance-Critical Code"
   ]
  },
  {
   "cell_type": "code",
   "execution_count": null,
   "id": "7f22257c",
   "metadata": {},
   "outputs": [],
   "source": [
    "# What Not to Do\n",
    "def my_function(*args, **kwargs):\n",
    "    return sum(args) + sum(kwargs.values())"
   ]
  },
  {
   "cell_type": "code",
   "execution_count": null,
   "id": "578ca2db",
   "metadata": {},
   "outputs": [],
   "source": [
    "# Optimized Version\n",
    "def my_function(a, b, c):\n",
    "    return a + b + c"
   ]
  },
  {
   "cell_type": "markdown",
   "id": "159564ac",
   "metadata": {},
   "source": [
    "## 29. Use `math` Module for Mathematical Operations"
   ]
  },
  {
   "cell_type": "code",
   "execution_count": null,
   "id": "adda76ea",
   "metadata": {},
   "outputs": [],
   "source": [
    "# What Not to Do\n",
    "def square_root(x):\n",
    "    return x ** 0.5"
   ]
  },
  {
   "cell_type": "code",
   "execution_count": null,
   "id": "6839ebd8",
   "metadata": {},
   "outputs": [],
   "source": [
    "import math\n",
    "\n",
    "# Optimized Version\n",
    "def square_root(x):\n",
    "    return math.sqrt(x)"
   ]
  },
  {
   "cell_type": "markdown",
   "id": "4c50b5df",
   "metadata": {},
   "source": [
    "## 30. Use `heapq` for Priority Queues"
   ]
  },
  {
   "cell_type": "code",
   "execution_count": null,
   "id": "81650ccf",
   "metadata": {},
   "outputs": [],
   "source": [
    "# What Not to Do\n",
    "queue = []\n",
    "queue.append((2, 'task2'))\n",
    "queue.append((1, 'task1'))\n",
    "queue.sort()\n",
    "smallest = queue.pop(0)"
   ]
  },
  {
   "cell_type": "code",
   "execution_count": null,
   "id": "e2f99fa6",
   "metadata": {},
   "outputs": [],
   "source": [
    "import heapq\n",
    "\n",
    "# Optimized Version\n",
    "heap = []\n",
    "heapq.heappush(heap, (1, 'task1'))\n",
    "heapq.heappush(heap, (2, 'task2'))\n",
    "smallest = heapq.heappop(heap)"
   ]
  }
 ],
 "metadata": {
  "kernelspec": {
   "display_name": "Python 3 (ipykernel)",
   "language": "python",
   "name": "python3"
  },
  "language_info": {
   "codemirror_mode": {
    "name": "ipython",
    "version": 3
   },
   "file_extension": ".py",
   "mimetype": "text/x-python",
   "name": "python",
   "nbconvert_exporter": "python",
   "pygments_lexer": "ipython3",
   "version": "3.9.7"
  }
 },
 "nbformat": 4,
 "nbformat_minor": 5
}
