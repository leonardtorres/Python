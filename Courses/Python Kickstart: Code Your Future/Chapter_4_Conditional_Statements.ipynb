{
 "cells": [
  {
   "cell_type": "markdown",
   "metadata": {},
   "source": [
    "# Chapter 4: Conditional Statements\n",
    "\n",
    "- In this chapter, we will will cover conditional statements that are used to perform different actions based on different conditions.\n",
    "- The main conditional statements are **if**, **elif**, and **else**, these control the flow of your program and make decisions based on certain conditions.\n",
    "- Should you require further details or a comprehensive guide, please feel free to contact me via my LinkedIn profile www.linkedin.com/in/leonard-torres"
   ]
  },
  {
   "cell_type": "markdown",
   "metadata": {},
   "source": [
    "## 1. `if` Statement\n",
    "- The `if` statement is used to test a specific condition. If the condition is true, the block of code inside the `if` statement is executed.\n",
    "\n",
    "### Syntax\n",
    "```python\n",
    "if condition:\n",
    "    # code to execute if condition is true\n",
    "```\n",
    "\n",
    "### Example"
   ]
  },
  {
   "cell_type": "code",
   "execution_count": 13,
   "metadata": {},
   "outputs": [
    {
     "name": "stdout",
     "output_type": "stream",
     "text": [
      "x is greater than 5\n"
     ]
    }
   ],
   "source": [
    "# Validate if a number is greater than 5 using if Statement\n",
    "\n",
    "x = 10\n",
    "if x > 5:\n",
    "    print(\"x is greater than 5\")  # Output: x is greater than 5"
   ]
  },
  {
   "cell_type": "code",
   "execution_count": 14,
   "metadata": {},
   "outputs": [],
   "source": [
    "# Validate if a number is greater than 5 using if Statement\n",
    "\n",
    "x = 3\n",
    "if x > 5:\n",
    "    print(\"x is greater than 5\")  # There is no Output because x is not greater than 5"
   ]
  },
  {
   "cell_type": "markdown",
   "metadata": {},
   "source": [
    "## 2. `elif` Statement\n",
    "- The `elif` statement is short for \"else if\" and is used to test multiple conditions.\n",
    "- If the first `if` condition is false, the `elif` condition is tested. You can have multiple `elif` statements.\n",
    "\n",
    "### Syntax\n",
    "```python\n",
    "if condition1:\n",
    "    # code to execute if condition1 is true\n",
    "elif condition2:\n",
    "    # code to execute if condition2 is true\n",
    "```\n",
    "\n",
    "### Example"
   ]
  },
  {
   "cell_type": "code",
   "execution_count": 16,
   "metadata": {},
   "outputs": [
    {
     "name": "stdout",
     "output_type": "stream",
     "text": [
      "x is greater than 5 but less than or equal to 15\n"
     ]
    }
   ],
   "source": [
    "# Validate if a number is greater than 15, if no, validate if a number is greater than 5\n",
    "\n",
    "x = 10\n",
    "if x > 15:\n",
    "    print(\"x is greater than 15\")\n",
    "elif x > 5:\n",
    "    print(\"x is greater than 5 but less than or equal to 15\")  # Output: x is greater than 5 but less than or equal to 15"
   ]
  },
  {
   "cell_type": "markdown",
   "metadata": {},
   "source": [
    "## 3. `else` Statement\n",
    "- The `else` statement is used to execute a block of code if none of the previous conditions are true.\n",
    "\n",
    "### Syntax\n",
    "```python\n",
    "if condition1:\n",
    "    # code to execute if condition1 is true\n",
    "elif condition2:\n",
    "    # code to execute if condition2 is true\n",
    "else:\n",
    "    # code to execute if none of the above conditions are true\n",
    "```\n",
    "\n",
    "### Example"
   ]
  },
  {
   "cell_type": "code",
   "execution_count": 17,
   "metadata": {},
   "outputs": [
    {
     "name": "stdout",
     "output_type": "stream",
     "text": [
      "x is 5 or less\n"
     ]
    }
   ],
   "source": [
    "# Validate if a number is greater than 15, if no, validate if a number is greater than 5\n",
    "# If the number is not greater than 15 or 5, then show that the number is equal or less than 5\n",
    "\n",
    "x = 3\n",
    "if x > 15:\n",
    "    print(\"x is greater than 15\")\n",
    "elif x > 5:\n",
    "    print(\"x is greater than 5 but less than or equal to 15\")\n",
    "else:\n",
    "    print(\"x is 5 or less\")  # Output: x is 5 or less"
   ]
  },
  {
   "cell_type": "markdown",
   "metadata": {},
   "source": [
    "## 4. Nested Conditional Statements\n",
    "- You can nest conditional statements inside other conditional statements to create more complex decision-making structures.\n",
    "\n",
    "### Syntax\n",
    "```python\n",
    "if condition1:\n",
    "    if condition2:\n",
    "        # code to execute if both condition1 and condition2 are true\n",
    "```\n",
    "\n",
    "### Example"
   ]
  },
  {
   "cell_type": "code",
   "execution_count": 19,
   "metadata": {},
   "outputs": [
    {
     "name": "stdout",
     "output_type": "stream",
     "text": [
      "x is greater than 5 and y is greater than 15\n"
     ]
    }
   ],
   "source": [
    "# First, validate if x is greater than 5\n",
    "# If so, validate if y greater than 15\n",
    "\n",
    "x = 10\n",
    "y = 20\n",
    "if x > 5:\n",
    "    if y > 15:\n",
    "        print(\"x is greater than 5 and y is greater than 15\")  # Output: x is greater than 5 and y is greater than 15"
   ]
  },
  {
   "cell_type": "markdown",
   "metadata": {},
   "source": [
    "## 5. Logical Operators\n",
    "- Logical operators are used to combine multiple conditions. The main logical operators in Python are `and`, `or`, and `not`.\n",
    "\n",
    "### Examples"
   ]
  },
  {
   "cell_type": "code",
   "execution_count": 21,
   "metadata": {},
   "outputs": [
    {
     "name": "stdout",
     "output_type": "stream",
     "text": [
      "Both conditions are true\n",
      "At least one condition is true\n",
      "x is not greater than 15\n"
     ]
    }
   ],
   "source": [
    "# When use and operator, the both contiditions MUST BE TRUE to the condition be true\n",
    "x = 10\n",
    "y = 20\n",
    "if x > 5 and y > 15:\n",
    "    print(\"Both conditions are true\")  # Output: Both conditions are true\n",
    "\n",
    "# When use or operator, one of the contiditions MUST BE TRUE to the condition be true\n",
    "if x > 15 or y > 15:\n",
    "    print(\"At least one condition is true\")  # Output: At least one condition is true\n",
    "\n",
    "# When use not operator, it changes the result of the condition to the opposite.\n",
    "#If the condition is TRUE, not operator converts it to FALSE\n",
    "#If the condition is FALSE, not operator converts it to TRUE\n",
    "\n",
    "if not x > 15:\n",
    "    print(\"x is not greater than 15\")  # Output: x is not greater than 15"
   ]
  },
  {
   "cell_type": "markdown",
   "metadata": {},
   "source": [
    "## 6. Exercises\n",
    "Let's practice what we've learned with some exercises.\n",
    "\n",
    "### Exercise 1: Basic Conditional Statements\n",
    "1. Create a variable `age` and assign it a value.\n",
    "2. Write an `if` statement to check if `age` is greater than 18. If true, print \"Adult\".\n",
    "3. Add an `else` statement to print \"Minor\" if `age` is 18 or less.\n",
    "\n",
    "### Exercise 2: Multiple Conditions\n",
    "1. Create a variable `score` and assign it a value.\n",
    "2. Write an `if-elif-else` statement to print \"Excellent\" if `score` is greater than 90, \"Good\" if `score` is between 70 and 90, and \"Needs Improvement\" if `score` is less than 70.\n",
    "\n",
    "### Exercise 3: Nested Conditional Statements\n",
    "1. Create variables `x` and `y` and assign them values.\n",
    "2. Write a nested `if` statement to check if `x` is greater than 10 and `y` is less than 20. If both conditions are true, print \"x is greater than 10 and y is less than 20\".\n",
    "\n",
    "### Exercise 4: Logical Operators\n",
    "1. Create variables `a` and `b` and assign them values.\n",
    "2. Write an `if` statement using the `and` operator to check if both `a` and `b` are positive numbers. If true, print \"Both are positive\".\n",
    "3. Write an `if` statement using the `or` operator to check if either `a` or `b` is a positive number. If true, print \"At least one is positive\".\n",
    "4. Write an `if` statement using the `not` operator to check if `a` is not a positive number. If true, print \"a is not positive\".\n"
   ]
  }
 ],
 "metadata": {
  "kernelspec": {
   "display_name": "Python 3 (ipykernel)",
   "language": "python",
   "name": "python3"
  },
  "language_info": {
   "codemirror_mode": {
    "name": "ipython",
    "version": 3
   },
   "file_extension": ".py",
   "mimetype": "text/x-python",
   "name": "python",
   "nbconvert_exporter": "python",
   "pygments_lexer": "ipython3",
   "version": "3.9.7"
  }
 },
 "nbformat": 4,
 "nbformat_minor": 4
}
