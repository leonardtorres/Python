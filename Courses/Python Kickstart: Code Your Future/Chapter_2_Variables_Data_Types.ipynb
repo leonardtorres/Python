{
 "cells": [
  {
   "cell_type": "markdown",
   "id": "3e100d97",
   "metadata": {},
   "source": [
    "# Variables and Data Types\n",
    "\n",
    "- In this chapter, we will explore variables and the various data types available in Python.\n",
    "- This includes understanding how to declare variables, the different types of variables, and how to work with them\n",
    "- Data types define the operations that can be performed on the data and the way the data is stored.\n",
    "- Should you require further details or a comprehensive guide, please feel free to contact me via my LinkedIn profile www.linkedin.com/in/leonard-torres"
   ]
  },
  {
   "cell_type": "markdown",
   "id": "c134c92b",
   "metadata": {},
   "source": [
    "## 1. Variables\n",
    "\n",
    "- Variables are used to store data that can be used and manipulated throughout a program.\n",
    "- In Python, variables are created when you assign a value to them."
   ]
  },
  {
   "cell_type": "markdown",
   "id": "fc3e1340",
   "metadata": {},
   "source": [
    "### 1.1 Variable Declaration\n",
    "\n",
    "- In Python, you do not need to declare the type of a variable.\n",
    "- The type is inferred from the value assigned to it.\n",
    "\n",
    "```python\n",
    "x = 10          # Integer\n",
    "y = 20.5        # Float\n",
    "name = \"Alice\"  # String\n",
    "```\n",
    "\n",
    "### 1.2 Variable Naming Rules\n",
    "\n",
    "- Variable names must **start with a letter or an underscore** (_).\n",
    "- The rest of the name can contain letters, numbers, and underscores.\n",
    "- Variable names are case-sensitive.\n",
    "- Avoid using Python reserved words as variable names. For more detailes check Basic Sintax Chapter"
   ]
  },
  {
   "cell_type": "markdown",
   "id": "4a31cae1",
   "metadata": {},
   "source": [
    "### 1.3. Samples\n",
    "\n",
    "- Declare variables of different types and print their values and types."
   ]
  },
  {
   "cell_type": "code",
   "execution_count": 18,
   "id": "c44765be",
   "metadata": {},
   "outputs": [
    {
     "name": "stdout",
     "output_type": "stream",
     "text": [
      "x: 10, type: <class 'int'>\n",
      "y: 20.5, type: <class 'float'>\n",
      "name: Alice, type: <class 'str'>\n",
      "is_student: True, type: <class 'bool'>\n"
     ]
    }
   ],
   "source": [
    "# Your code here\n",
    "x = 10\n",
    "y = 20.5\n",
    "name = \"Alice\"\n",
    "is_student = True\n",
    "\n",
    "print(f\"x: {x}, type: {type(x)}\")\n",
    "print(f\"y: {y}, type: {type(y)}\")\n",
    "print(f\"name: {name}, type: {type(name)}\")\n",
    "print(f\"is_student: {is_student}, type: {type(is_student)}\")"
   ]
  },
  {
   "cell_type": "markdown",
   "id": "059c8791",
   "metadata": {},
   "source": [
    "## 2. Variable Types\n",
    "\n",
    "- Python has several built-in data types.\n",
    "- Here we present the most commonly used ones.\n",
    "- To know the type of the variable we can use **type** function"
   ]
  },
  {
   "cell_type": "markdown",
   "id": "3240022b",
   "metadata": {},
   "source": [
    "### 2.1 Numeric Data Types\n",
    "\n",
    "Python supports three types of numeric data:\n",
    "- **int**: Integer values\n",
    "- **float**: Floating-point values\n",
    "- **complex**: Complex numbers\n",
    "\n",
    "```python\n",
    "a = 10        # int\n",
    "b = 20.5      # float\n",
    "c = 1 + 2j    # complex\n",
    "```\n",
    "\n",
    "### Samples:"
   ]
  },
  {
   "cell_type": "code",
   "execution_count": 19,
   "id": "86623b03",
   "metadata": {},
   "outputs": [
    {
     "name": "stdout",
     "output_type": "stream",
     "text": [
      "The value of the variable a is: 10, and its type is: <class 'int'>\n",
      "The value of the variable b is: 20.5, and its type is: <class 'float'>\n",
      "The value of the variable c is: (1+2j), and its type is: <class 'complex'>\n"
     ]
    }
   ],
   "source": [
    "# Your code here\n",
    "a = 10\n",
    "b = 20.5\n",
    "c = 1 + 2j\n",
    "\n",
    "print(f\"The value of the variable a is: {a}, and its type is: {type(a)}\")\n",
    "print(f\"The value of the variable b is: {b}, and its type is: {type(b)}\")\n",
    "print(f\"The value of the variable c is: {c}, and its type is: {type(c)}\")"
   ]
  },
  {
   "cell_type": "markdown",
   "id": "5f7fbd2b",
   "metadata": {},
   "source": [
    "### 2.2 Boolean Data Type\n",
    "\n",
    "- This type stored **True** or **False**. It means that We can use to make decisiones\n",
    "- Python has one boolean data type:\n",
    "- **bool**: Boolean values (True or False)\n",
    "\n",
    "```python\n",
    "bool_example = True  # bool\n",
    "```\n",
    "\n",
    "### Samples:"
   ]
  },
  {
   "cell_type": "code",
   "execution_count": 20,
   "id": "7eeef2e0",
   "metadata": {},
   "outputs": [
    {
     "name": "stdout",
     "output_type": "stream",
     "text": [
      "bool_example: True, type: <class 'bool'>\n"
     ]
    }
   ],
   "source": [
    "# Your code here\n",
    "bool_example = True\n",
    "\n",
    "print(f\"bool_example: {bool_example}, type: {type(bool_example)}\")"
   ]
  },
  {
   "cell_type": "markdown",
   "id": "f3e3ef2c",
   "metadata": {},
   "source": [
    "### 2.3 Sequence Data Types\n",
    "\n",
    "Python has several sequence data types:\n",
    "- **str**: String\n",
    "- **list**: List\n",
    "- **tuple**: Tuple\n",
    "\n",
    "```python\n",
    "greeting = \"Hello, World!\"  # str\n",
    "list_numbers = [1, 2, 3, 4, 5]  # list\n",
    "tuple_numbers = (1, 2, 3, 4, 5)  # tuple\n",
    "```\n",
    "\n",
    "### Samples:"
   ]
  },
  {
   "cell_type": "code",
   "execution_count": 21,
   "id": "029ff7fd",
   "metadata": {},
   "outputs": [
    {
     "name": "stdout",
     "output_type": "stream",
     "text": [
      "greeting: Hello, World!, type: <class 'str'>\n",
      "list_numbers: [1, 2, 3, 4, 5], type: <class 'list'>\n",
      "tuple_numbers: (1, 2, 3, 4, 5), type: <class 'tuple'>\n"
     ]
    }
   ],
   "source": [
    "# Your code here\n",
    "greeting = \"Hello, World!\"\n",
    "list_numbers = [1, 2, 3, 4, 5]\n",
    "tuple_numbers = (1, 2, 3, 4, 5)\n",
    "\n",
    "print(f\"greeting: {greeting}, type: {type(greeting)}\")\n",
    "print(f\"list_numbers: {list_numbers}, type: {type(list_numbers)}\")\n",
    "print(f\"tuple_numbers: {tuple_numbers}, type: {type(tuple_numbers)}\")"
   ]
  },
  {
   "cell_type": "markdown",
   "id": "902b324e",
   "metadata": {},
   "source": [
    "### 2.4 Mapping Data Type\n",
    "\n",
    "Python has one mapping data type:\n",
    "- **dict**: Dictionary\n",
    "\n",
    "```python\n",
    "d = {\"name\": \"Alice\", \"age\": 25}  # dict\n",
    "```\n",
    "\n",
    "### Samples"
   ]
  },
  {
   "cell_type": "code",
   "execution_count": 22,
   "id": "0df8e2f6",
   "metadata": {},
   "outputs": [
    {
     "name": "stdout",
     "output_type": "stream",
     "text": [
      "d: {'name': 'Alice', 'age': 25}, type: <class 'dict'>\n"
     ]
    }
   ],
   "source": [
    "# Your code here\n",
    "d = {\"name\": \"Alice\", \"age\": 25}\n",
    "\n",
    "print(f\"d: {d}, type: {type(d)}\")"
   ]
  },
  {
   "cell_type": "markdown",
   "id": "fcadbe9a",
   "metadata": {},
   "source": [
    "### 2.5 Set Data Types\n",
    "\n",
    "Python has two set data types:\n",
    "- **set**: Unordered collection of unique elements\n",
    "- **frozenset**: Immutable version of a set\n",
    "\n",
    "```python\n",
    "set_example = {1, 2, 3, 4, 5}  # set\n",
    "frozenset_example = frozenset([1, 2, 3, 4, 5])  # frozenset\n",
    "```\n",
    "\n",
    "### Samples:"
   ]
  },
  {
   "cell_type": "code",
   "execution_count": 23,
   "id": "33719a6b",
   "metadata": {},
   "outputs": [
    {
     "name": "stdout",
     "output_type": "stream",
     "text": [
      "set_example: {1, 2, 3, 4, 5}, type: <class 'set'>\n",
      "frozenset_example: frozenset({1, 2, 3, 4, 5}), type: <class 'frozenset'>\n"
     ]
    }
   ],
   "source": [
    "# Your code here\n",
    "set_example = {1, 2, 3, 4, 5}\n",
    "frozenset_example = frozenset([1, 2, 3, 4, 5])\n",
    "\n",
    "print(f\"set_example: {set_example}, type: {type(set_example)}\")\n",
    "print(f\"frozenset_example: {frozenset_example}, type: {type(frozenset_example)}\")"
   ]
  },
  {
   "cell_type": "markdown",
   "id": "63d87cc2",
   "metadata": {},
   "source": [
    "### 2.6. None Data Type\n",
    "\n",
    "- Python has a special data type called **NoneType** which has a single value **None**.\n",
    "- It means that there is no value in that variable. So, we can say it is an empty variable."
   ]
  },
  {
   "cell_type": "code",
   "execution_count": 24,
   "id": "51ef95e4",
   "metadata": {},
   "outputs": [
    {
     "name": "stdout",
     "output_type": "stream",
     "text": [
      "none_example is of type <class 'NoneType'>\n"
     ]
    }
   ],
   "source": [
    "# Example of None data type\n",
    "none_example = None  # NoneType\n",
    "\n",
    "print(f\"none_example is of type {type(none_example)}\")"
   ]
  }
 ],
 "metadata": {
  "kernelspec": {
   "display_name": "Python 3 (ipykernel)",
   "language": "python",
   "name": "python3"
  },
  "language_info": {
   "codemirror_mode": {
    "name": "ipython",
    "version": 3
   },
   "file_extension": ".py",
   "mimetype": "text/x-python",
   "name": "python",
   "nbconvert_exporter": "python",
   "pygments_lexer": "ipython3",
   "version": "3.9.7"
  }
 },
 "nbformat": 4,
 "nbformat_minor": 5
}
