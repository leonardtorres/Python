{
 "cells": [
  {
   "cell_type": "markdown",
   "metadata": {},
   "source": [
    "# Chapter 5: For Loop\n",
    "\n",
    "- In this chapter, we will will cover `for` loop in Python. It is used to iterate over a sequence (such as a list, tuple, dictionary, set, or string) or other iterable objects.\n",
    "- Iterating over a sequence is called traversal.\n",
    "- Should you require further details or a comprehensive guide, please feel free to contact me via my LinkedIn profile www.linkedin.com/in/leonard-torres\n",
    "\n",
    "## Syntax\n",
    "The basic syntax of a `for` loop is:\n",
    "```python\n",
    "for variable in sequence:\n",
    "    # code block to be executed\n",
    "```"
   ]
  },
  {
   "cell_type": "markdown",
   "metadata": {},
   "source": [
    "### 1. Iterating Through a List\n",
    "- You can iterate through the items in a list using a `for` loop."
   ]
  },
  {
   "cell_type": "code",
   "execution_count": 13,
   "metadata": {},
   "outputs": [
    {
     "name": "stdout",
     "output_type": "stream",
     "text": [
      "apple\n",
      "banana\n",
      "cherry\n"
     ]
    }
   ],
   "source": [
    "fruits = ['apple', 'banana', 'cherry'] # Create a list of fruits\n",
    "for fruit in fruits: # create a for to iterate each fruit in the list\n",
    "    print(fruit)"
   ]
  },
  {
   "cell_type": "markdown",
   "metadata": {},
   "source": [
    "### 2. Iterating Through a String\n",
    "- Strings are iterable, so you can loop through the characters in a string."
   ]
  },
  {
   "cell_type": "code",
   "execution_count": 14,
   "metadata": {},
   "outputs": [
    {
     "name": "stdout",
     "output_type": "stream",
     "text": [
      "prints each letter of word banana: letter: b\n",
      "prints each letter of word banana: letter: a\n",
      "prints each letter of word banana: letter: n\n",
      "prints each letter of word banana: letter: a\n",
      "prints each letter of word banana: letter: n\n",
      "prints each letter of word banana: letter: a\n"
     ]
    }
   ],
   "source": [
    "for letter in 'banana':  # create a for to iterate each letter of the word 'banana'\n",
    "    print(f\"prints each letter of word banana: letter: {letter}\")"
   ]
  },
  {
   "cell_type": "markdown",
   "metadata": {},
   "source": [
    "### 3. Using the `range()` Function\n",
    "- The `range()` function generates a sequence of numbers, which is useful for looping a specific number of times."
   ]
  },
  {
   "cell_type": "code",
   "execution_count": 15,
   "metadata": {
    "scrolled": true
   },
   "outputs": [
    {
     "name": "stdout",
     "output_type": "stream",
     "text": [
      "Prints each number in the range 0 to 4: number 0\n",
      "Prints each number in the range 0 to 4: number 1\n",
      "Prints each number in the range 0 to 4: number 2\n",
      "Prints each number in the range 0 to 4: number 3\n",
      "Prints each number in the range 0 to 4: number 4\n"
     ]
    }
   ],
   "source": [
    "for i in range(5):  # create a for to iterate each number from 0 to 4\n",
    "    print(f\"Prints each number in the range 0 to 4: number {i}\")"
   ]
  },
  {
   "cell_type": "markdown",
   "metadata": {},
   "source": [
    "### 4. Nested For Loops\n",
    "- You can use a `for` loop inside another `for` loop to iterate over a matrix or a list of lists."
   ]
  },
  {
   "cell_type": "code",
   "execution_count": 16,
   "metadata": {},
   "outputs": [
    {
     "name": "stdout",
     "output_type": "stream",
     "text": [
      "1 2 3 \n",
      "4 5 6 \n",
      "7 8 9 \n"
     ]
    }
   ],
   "source": [
    "matrix = [[1, 2, 3], [4, 5, 6], [7, 8, 9]] #Create a matrix of  3 by 3\n",
    "for row in matrix: # Create a for loop to iterate each list of matrix. For instane [1, 2, 3]\n",
    "    for item in row: # Create a for loop to iterate each element of the list. For instane 1\n",
    "        print(item, end=' ')\n",
    "    print()"
   ]
  },
  {
   "cell_type": "markdown",
   "metadata": {},
   "source": [
    "### 5. Using `else` with For Loops\n",
    "- The `else` block will execute after the loop finishes its iteration over the list."
   ]
  },
  {
   "cell_type": "code",
   "execution_count": 17,
   "metadata": {},
   "outputs": [
    {
     "name": "stdout",
     "output_type": "stream",
     "text": [
      "Prints each number in the range 0 to 4: number 0\n",
      "Prints each number in the range 0 to 4: number 1\n",
      "Prints each number in the range 0 to 4: number 2\n",
      "Prints each number in the range 0 to 4: number 3\n",
      "Prints each number in the range 0 to 4: number 4\n",
      "Loop is over\n"
     ]
    }
   ],
   "source": [
    "for i in range(5):  # create a for to iterate each number from 0 to 4\n",
    "    print(f\"Prints each number in the range 0 to 4: number {i}\")\n",
    "else:\n",
    "    print('Loop is over')"
   ]
  }
 ],
 "metadata": {
  "kernelspec": {
   "display_name": "Python 3 (ipykernel)",
   "language": "python",
   "name": "python3"
  },
  "language_info": {
   "codemirror_mode": {
    "name": "ipython",
    "version": 3
   },
   "file_extension": ".py",
   "mimetype": "text/x-python",
   "name": "python",
   "nbconvert_exporter": "python",
   "pygments_lexer": "ipython3",
   "version": "3.9.7"
  }
 },
 "nbformat": 4,
 "nbformat_minor": 4
}
