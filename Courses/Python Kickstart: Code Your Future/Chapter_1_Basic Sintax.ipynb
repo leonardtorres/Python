{
 "cells": [
  {
   "cell_type": "markdown",
   "id": "c09fcdc2",
   "metadata": {},
   "source": [
    "# Basic Sintax\n",
    "\n",
    "- In this chapter, you will learn the fundamental syntax and essential considerations necessary before beginning to code in Python.\n",
    "- Should you require further details or a comprehensive guide, please feel free to contact me via my LinkedIn profile www.linkedin.com/in/leonard-torres"
   ]
  },
  {
   "cell_type": "markdown",
   "id": "7b480c16",
   "metadata": {},
   "source": [
    "## 1. Indentation\n",
    "\n",
    "- Indentation is crucial in Python as it **defines the structure and flow of the code.**\n",
    "- It delimits **blocks of code**\n",
    "\n",
    "- Consistent use of spaces or tabs is necessary.\n",
    "- If no tab was used, **4 spaces per indentation** level are recommended."
   ]
  },
  {
   "cell_type": "code",
   "execution_count": 14,
   "id": "5edee7bf",
   "metadata": {},
   "outputs": [
    {
     "ename": "IndentationError",
     "evalue": "expected an indented block (838908342.py, line 6)",
     "output_type": "error",
     "traceback": [
      "\u001b[1;36m  Cell \u001b[1;32mIn[14], line 6\u001b[1;36m\u001b[0m\n\u001b[1;33m    print(\"Hello world\")\u001b[0m\n\u001b[1;37m    ^\u001b[0m\n\u001b[1;31mIndentationError\u001b[0m\u001b[1;31m:\u001b[0m expected an indented block\n"
     ]
    }
   ],
   "source": [
    "#This code generate error because print is not idented\n",
    "\n",
    "number = 2\n",
    "if number ==2:\n",
    "print(\"Hello world\")"
   ]
  },
  {
   "cell_type": "code",
   "execution_count": 17,
   "id": "ebb4948c",
   "metadata": {},
   "outputs": [
    {
     "name": "stdout",
     "output_type": "stream",
     "text": [
      "Hello world\n"
     ]
    }
   ],
   "source": [
    "#This code has print idented inside if clause\n",
    "\n",
    "number = 2\n",
    "if number ==2:\n",
    "    print(\"Hello world\")"
   ]
  },
  {
   "cell_type": "markdown",
   "id": "2b4e397f",
   "metadata": {},
   "source": [
    "## 2. Reserved Words (Keywords)\n",
    "\n",
    "- Reserved words (or keywords) are predefined words in Python that have special meanings and cannot be used as identifiers (variable names, function names, conditionals names, etc).\n",
    "\n",
    "- These are the list of all keywords:\n",
    "    **False, None, True, and, as, assert, async, await, break, class, continue, def, del, elif, else, except, finally, for, from, global, if, import, in, is, lambda, nonlocal, not, or, pass, raise, return, try, while, with, yield**\n",
    "    \n",
    "- Use keyword.kwlist from the Keyword moduule. See the following example\n"
   ]
  },
  {
   "cell_type": "code",
   "execution_count": 21,
   "id": "9ca1e0d8",
   "metadata": {},
   "outputs": [
    {
     "data": {
      "text/plain": [
       "['False',\n",
       " 'None',\n",
       " 'True',\n",
       " '__peg_parser__',\n",
       " 'and',\n",
       " 'as',\n",
       " 'assert',\n",
       " 'async',\n",
       " 'await',\n",
       " 'break',\n",
       " 'class',\n",
       " 'continue',\n",
       " 'def',\n",
       " 'del',\n",
       " 'elif',\n",
       " 'else',\n",
       " 'except',\n",
       " 'finally',\n",
       " 'for',\n",
       " 'from',\n",
       " 'global',\n",
       " 'if',\n",
       " 'import',\n",
       " 'in',\n",
       " 'is',\n",
       " 'lambda',\n",
       " 'nonlocal',\n",
       " 'not',\n",
       " 'or',\n",
       " 'pass',\n",
       " 'raise',\n",
       " 'return',\n",
       " 'try',\n",
       " 'while',\n",
       " 'with',\n",
       " 'yield']"
      ]
     },
     "execution_count": 21,
     "metadata": {},
     "output_type": "execute_result"
    }
   ],
   "source": [
    "import keyword\n",
    "\n",
    "# we get the list of all keywords\n",
    "keyword.kwlist"
   ]
  },
  {
   "cell_type": "markdown",
   "id": "77f219ad",
   "metadata": {},
   "source": [
    "## 3. Comments\n",
    "\n",
    "- Comments are used to explain code and are ignored by the Python interpreter.\n",
    "- They are useful for making the code more readable.\n",
    "\n",
    "### 3.1. Single-line Comment:\n",
    "- For this just use \"#\" character at the begging of the comment"
   ]
  },
  {
   "cell_type": "code",
   "execution_count": 27,
   "id": "a04ac47e",
   "metadata": {},
   "outputs": [
    {
     "name": "stdout",
     "output_type": "stream",
     "text": [
      "Hello, World!\n"
     ]
    }
   ],
   "source": [
    "print(\"Hello, World!\")  # This is an inline comment"
   ]
  },
  {
   "cell_type": "markdown",
   "id": "270031b7",
   "metadata": {},
   "source": [
    "### 3.2. Multi-line Comment:\n",
    "- Use three \" character to comment at the beginning and at the end"
   ]
  },
  {
   "cell_type": "code",
   "execution_count": 28,
   "id": "15187ed2",
   "metadata": {},
   "outputs": [
    {
     "name": "stdout",
     "output_type": "stream",
     "text": [
      "Make the Force be with you!\n",
      "Peace and Love\n"
     ]
    }
   ],
   "source": [
    "print(\"Make the Force be with you!\")\n",
    "\"\"\"\n",
    "This is a multi-line comment\n",
    "or docstring (documentation string)\n",
    "This code is not considered by python interpreter\n",
    "\"\"\"\n",
    "print(\"Peace and Love\")"
   ]
  }
 ],
 "metadata": {
  "kernelspec": {
   "display_name": "Python 3 (ipykernel)",
   "language": "python",
   "name": "python3"
  },
  "language_info": {
   "codemirror_mode": {
    "name": "ipython",
    "version": 3
   },
   "file_extension": ".py",
   "mimetype": "text/x-python",
   "name": "python",
   "nbconvert_exporter": "python",
   "pygments_lexer": "ipython3",
   "version": "3.9.7"
  }
 },
 "nbformat": 4,
 "nbformat_minor": 5
}
