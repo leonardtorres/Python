{
 "cells": [
  {
   "cell_type": "markdown",
   "metadata": {},
   "source": [
    "# Chapter 3:  Basic Operations\n",
    "\n",
    "- In this chapter, we will will cover the basic operations in Python, including arithmetic operations, variable assignments, and basic data types.\n",
    "- Should you require further details or a comprehensive guide, please feel free to contact me via my LinkedIn profile www.linkedin.com/in/leonard-torres\n"
   ]
  },
  {
   "cell_type": "markdown",
   "metadata": {},
   "source": [
    "#### Arithmetic operations are the basic operations that can be performed on numbers. Python supports the following arithmetic operations:\n",
    "\n",
    "## 1. Addition (+)\n",
    "\n",
    "Adds, at least, two numbers together."
   ]
  },
  {
   "cell_type": "code",
   "execution_count": 60,
   "metadata": {},
   "outputs": [
    {
     "name": "stdout",
     "output_type": "stream",
     "text": [
      "Sum of two numbers: a + b is 8\n"
     ]
    }
   ],
   "source": [
    "# Addition of two Numbers\n",
    "a = 5\n",
    "b = 3\n",
    "print(f\"Sum of two numbers: a + b is {a + b}\")  # Output: 8"
   ]
  },
  {
   "cell_type": "code",
   "execution_count": 61,
   "metadata": {},
   "outputs": [
    {
     "name": "stdout",
     "output_type": "stream",
     "text": [
      "Sum of three numbers: a + b + c is 18\n"
     ]
    }
   ],
   "source": [
    "# Addition of three numbers\n",
    "a = 5\n",
    "b = 3\n",
    "c = 10\n",
    "print(f\"Sum of three numbers: a + b + c is {a + b + c}\")  # Output: 18"
   ]
  },
  {
   "cell_type": "markdown",
   "metadata": {},
   "source": [
    "## 2. Subtraction (-)\n",
    "\n",
    "Subtracts the second number from the first."
   ]
  },
  {
   "cell_type": "code",
   "execution_count": 62,
   "metadata": {},
   "outputs": [
    {
     "name": "stdout",
     "output_type": "stream",
     "text": [
      "Subtraction of a - b = 7\n"
     ]
    }
   ],
   "source": [
    "# Subtraction a- b\n",
    "a = 10\n",
    "b = 3\n",
    "\n",
    "print(f\"Subtraction of a - b = {a - b}\")  # Output: 7"
   ]
  },
  {
   "cell_type": "code",
   "execution_count": 63,
   "metadata": {},
   "outputs": [
    {
     "name": "stdout",
     "output_type": "stream",
     "text": [
      "Subtraction of a - b - c = 2\n"
     ]
    }
   ],
   "source": [
    "# Subtraction a- b - c\n",
    "a = 10\n",
    "b = 3\n",
    "c = 5\n",
    "\n",
    "print(f\"Subtraction of a - b - c = {a - b - c}\")  # Output: 2"
   ]
  },
  {
   "cell_type": "markdown",
   "metadata": {},
   "source": [
    "## 3. Multiplication (*)\n",
    "\n",
    "Multiplies two numbers at least."
   ]
  },
  {
   "cell_type": "code",
   "execution_count": 64,
   "metadata": {
    "scrolled": true
   },
   "outputs": [
    {
     "name": "stdout",
     "output_type": "stream",
     "text": [
      "Multiplication of a * b = 30\n"
     ]
    }
   ],
   "source": [
    "# Multiplication  a * b\n",
    "a = 10\n",
    "b = 3\n",
    "\n",
    "print(f\"Multiplication of a * b = {a * b}\")  # Output: 15"
   ]
  },
  {
   "cell_type": "code",
   "execution_count": 65,
   "metadata": {},
   "outputs": [
    {
     "name": "stdout",
     "output_type": "stream",
     "text": [
      "Multiplication of a * b * c = 150\n"
     ]
    }
   ],
   "source": [
    "# Multiplication  a * b * c\n",
    "a = 10\n",
    "b = 3\n",
    "c = 5\n",
    "\n",
    "print(f\"Multiplication of a * b * c = {a * b * c}\")  # Output: 15"
   ]
  },
  {
   "cell_type": "markdown",
   "metadata": {},
   "source": [
    "## 4. Division (/)\n",
    "\n",
    "Divides the first number by the second, resulting in a float"
   ]
  },
  {
   "cell_type": "code",
   "execution_count": 66,
   "metadata": {},
   "outputs": [
    {
     "name": "stdout",
     "output_type": "stream",
     "text": [
      "Multiplication of a / b = 3.3333333333333335\n"
     ]
    }
   ],
   "source": [
    "# Division\n",
    "a = 10\n",
    "b = 3\n",
    "\n",
    "print(f\"Multiplication of a / b = {a / b}\")  # Output: 3.3333333333333335"
   ]
  },
  {
   "cell_type": "markdown",
   "metadata": {},
   "source": [
    "## 5. Floor Division (//)\n",
    "\n",
    "Divides the first number by the second, the result is rounding down to the nearest integer."
   ]
  },
  {
   "cell_type": "code",
   "execution_count": 67,
   "metadata": {},
   "outputs": [
    {
     "name": "stdout",
     "output_type": "stream",
     "text": [
      "Floor Division of a // b = 3\n"
     ]
    }
   ],
   "source": [
    "# Floor Division\n",
    "a = 10\n",
    "b = 3\n",
    "\n",
    "print(f\"Floor Division of a // b = {a // b}\")  # Output: 3"
   ]
  },
  {
   "cell_type": "markdown",
   "metadata": {},
   "source": [
    "## 6. Modulus (%)\n",
    "\n",
    "Returns the remainder of the division of the first number by the second."
   ]
  },
  {
   "cell_type": "code",
   "execution_count": 68,
   "metadata": {},
   "outputs": [
    {
     "name": "stdout",
     "output_type": "stream",
     "text": [
      "Floor Division of a % b = 1\n"
     ]
    }
   ],
   "source": [
    "# Modulus\n",
    "a = 10\n",
    "b = 3\n",
    "\n",
    "print(f\"Floor Division of a % b = {a % b}\")  # Output: 1"
   ]
  },
  {
   "cell_type": "markdown",
   "metadata": {},
   "source": [
    "## 7. Exponentiation (**)\n",
    "\n",
    "Raises the first number to the power of the second."
   ]
  },
  {
   "cell_type": "code",
   "execution_count": 69,
   "metadata": {},
   "outputs": [
    {
     "name": "stdout",
     "output_type": "stream",
     "text": [
      "Floor Division of a ** b = 1000\n"
     ]
    }
   ],
   "source": [
    "# Exponentiation\n",
    "a = 10\n",
    "b = 3\n",
    "\n",
    "print(f\"Floor Division of a ** b = {a ** b}\")  # Output: 1000"
   ]
  }
 ],
 "metadata": {
  "kernelspec": {
   "display_name": "Python 3 (ipykernel)",
   "language": "python",
   "name": "python3"
  },
  "language_info": {
   "codemirror_mode": {
    "name": "ipython",
    "version": 3
   },
   "file_extension": ".py",
   "mimetype": "text/x-python",
   "name": "python",
   "nbconvert_exporter": "python",
   "pygments_lexer": "ipython3",
   "version": "3.9.7"
  }
 },
 "nbformat": 4,
 "nbformat_minor": 4
}
